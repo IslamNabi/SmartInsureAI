{
 "cells": [
  {
   "cell_type": "code",
   "execution_count": 1,
   "id": "55691f59",
   "metadata": {},
   "outputs": [
    {
     "name": "stdout",
     "output_type": "stream",
     "text": [
      "Balanced dataset shape: (93420, 12)\n",
      "Class distribution:\n",
      " Response\n",
      "1    46710\n",
      "0    46710\n",
      "Name: count, dtype: int64\n"
     ]
    }
   ],
   "source": [
    "import pandas as pd\n",
    "\n",
    "# Load the data\n",
    "df = pd.read_csv(\"data.csv\")  # Replace with your actual file path\n",
    "\n",
    "# Separate majority and minority classes\n",
    "df_majority = df[df['Response'] == 0]\n",
    "df_minority = df[df['Response'] == 1]\n",
    "\n",
    "# Desired number of samples in majority class = number of minority class\n",
    "target_majority_count = len(df_minority)\n",
    "\n",
    "# Randomly sample from majority class\n",
    "df_majority_downsampled = df_majority.sample(n=target_majority_count, random_state=42)\n",
    "\n",
    "# Combine balanced majority and minority class\n",
    "df_balanced = pd.concat([df_majority_downsampled, df_minority], axis=0)\n",
    "\n",
    "# Shuffle the dataset\n",
    "df_balanced = df_balanced.sample(frac=1, random_state=42).reset_index(drop=True)\n",
    "\n",
    "# Save or use the balanced dataset\n",
    "df_balanced.to_csv(\"balanced_dataset.csv\", index=False)\n",
    "\n",
    "print(\"Balanced dataset shape:\", df_balanced.shape)\n",
    "print(\"Class distribution:\\n\", df_balanced['Response'].value_counts())\n"
   ]
  },
  {
   "cell_type": "code",
   "execution_count": 2,
   "id": "106e1141",
   "metadata": {},
   "outputs": [
    {
     "name": "stdout",
     "output_type": "stream",
     "text": [
      "id                        int64\n",
      "Gender                   object\n",
      "Age                       int64\n",
      "Driving_License           int64\n",
      "Region_Code             float64\n",
      "Previously_Insured        int64\n",
      "Vehicle_Age              object\n",
      "Vehicle_Damage           object\n",
      "Annual_Premium          float64\n",
      "Policy_Sales_Channel    float64\n",
      "Vintage                   int64\n",
      "Response                  int64\n",
      "dtype: object\n"
     ]
    }
   ],
   "source": [
    "print(df_balanced.dtypes)\n"
   ]
  },
  {
   "cell_type": "code",
   "execution_count": null,
   "id": "76c676f8",
   "metadata": {},
   "outputs": [],
   "source": []
  },
  {
   "cell_type": "code",
   "execution_count": null,
   "id": "61d72a05",
   "metadata": {},
   "outputs": [],
   "source": []
  }
 ],
 "metadata": {
  "kernelspec": {
   "display_name": "venv",
   "language": "python",
   "name": "python3"
  },
  "language_info": {
   "codemirror_mode": {
    "name": "ipython",
    "version": 3
   },
   "file_extension": ".py",
   "mimetype": "text/x-python",
   "name": "python",
   "nbconvert_exporter": "python",
   "pygments_lexer": "ipython3",
   "version": "3.12.3"
  }
 },
 "nbformat": 4,
 "nbformat_minor": 5
}
